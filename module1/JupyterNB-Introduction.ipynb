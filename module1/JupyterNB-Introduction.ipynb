{
 "cells": [
  {
   "cell_type": "markdown",
   "metadata": {},
   "source": [
    "# Introduction to the use of Jupyter with Python\n",
    "**Anne Kværnø**\n",
    "\n",
    "23.02.2018\n",
    "\n",
    "(*Translated to English and adapted to TMA4215 by Brynjulf Owren August 21, 2018*)\n",
    "\n",
    "## Innledning\n",
    "\n",
    "Welcome to the course TMA4215 Numerical Mathematics, Autumn 2018. \n",
    "We shall rely on Jupyter for many purposes in this course, both material prepared by the teachers and projects/assignments prepared by the students. Jupyter is a web-based environment which makes it easy to write text and source code (Python) in the same document. \n",
    "\n",
    "In this note you get a short introduction to the most important constructions in Python. For those who know Matlab, have a look [NumPy for Matlab users](https://docs.scipy.org/doc/numpy-dev/user/numpy-for-matlab-users.html). \n",
    "\n",
    "All these notes can be downloaded an executed on your local computer.\n",
    "\n",
    "### Using Jupyter notes \n",
    "\n",
    "A Jupyter note is composed from cells. These can either consist of text (like this one) or source code as shown below. Once you have copied this note to your own domain you may alter both the markup text and the code. Perhaps a good idea is to leave the text unchanged, but rather experiment with the code.\n",
    "Of course you can also add new cells with your own notes or your own code or make new note books from scratch, possibly by copying from this or other note books.\n",
    "A useful reference guide for markup language can be found [here](https://daringfireball.net/projects/markdown/syntax#list)\n",
    "\n",
    "Below you find an example of a cell with code. You execute it by pressing *Shift+Enter*\n"
   ]
  },
  {
   "cell_type": "code",
   "execution_count": 1,
   "metadata": {},
   "outputs": [
    {
     "name": "stdout",
     "output_type": "stream",
     "text": [
      "28\n"
     ]
    }
   ],
   "source": [
    "a = 2\n",
    "b = 14\n",
    "c = a*b\n",
    "print(c)"
   ]
  },
  {
   "cell_type": "markdown",
   "metadata": {},
   "source": [
    "When you have executed a cell of code, the data are kept and can be reused "
   ]
  },
  {
   "cell_type": "code",
   "execution_count": 2,
   "metadata": {},
   "outputs": [
    {
     "name": "stdout",
     "output_type": "stream",
     "text": [
      "2 14\n"
     ]
    }
   ],
   "source": [
    "print(a, b)"
   ]
  },
  {
   "cell_type": "code",
   "execution_count": 3,
   "metadata": {},
   "outputs": [],
   "source": [
    "a = 8"
   ]
  },
  {
   "cell_type": "markdown",
   "metadata": {},
   "source": [
    "## Numerical computations with Python:\n",
    "\n",
    "Implementation of numerical algorithms is not necessarily very complicated, they essentially require the following: \n",
    "\n",
    "* Functions \n",
    "* Loops, especially for-loops. \n",
    "* Matrices and vectors. \n",
    "* Visualization (plotting) of results.\n",
    "\n",
    "In this note we explain very briefly how we do this  \n",
    "\n",
    "We need two modules:   \n",
    "* [Numpy:](http://www.numpy.org) Arrays (matrices and vectors), and the most commonly used mathematical functions \n",
    "* [Matplotlib:](https://matplotlib.org) Graphs and figures.  \n",
    "\n",
    "Necessary modules and functions must be imported and Jupyter is prepared for showing plots.\n",
    "This cell must be executed before any other code in the note "
   ]
  },
  {
   "cell_type": "code",
   "execution_count": 4,
   "metadata": {},
   "outputs": [],
   "source": [
    "# Import required modules, and set parameters for plotting.\n",
    "# Must always be run first!\n",
    "%matplotlib inline    \n",
    "from numpy import *               \n",
    "from numpy.linalg import solve, norm  \n",
    "from matplotlib.pyplot import *   \n",
    "\n",
    "# The next lines set parameters for plotting.\n",
    "# Feel free to experiment.\n",
    "newparams = {'figure.figsize': (8.0, 4.0), 'axes.grid': True,\n",
    "             'lines.markersize': 8, 'lines.linewidth': 2,\n",
    "             'font.size': 14}\n",
    "rcParams.update(newparams)"
   ]
  },
  {
   "cell_type": "markdown",
   "metadata": {},
   "source": [
    "The parameters in `newparams` can be changed until you have a plot with font size and line thickness to your liking.  Try it out with the following plot:"
   ]
  },
  {
   "cell_type": "code",
   "execution_count": 5,
   "metadata": {},
   "outputs": [
    {
     "data": {
      "image/png": "[encoded data removed]",
      "text/plain": [
       "<Figure size 432x288 with 1 Axes>"
      ]
     },
     "metadata": {},
     "output_type": "display_data"
    }
   ],
   "source": [
    "x = linspace(0,1,101)\n",
    "plot(x, cos(2*pi*x));     # Use ; to supress text.\n",
    "                          # Only required on the last line in a cell."
   ]
  },
  {
   "cell_type": "markdown",
   "metadata": {},
   "source": [
    "### Numpy: \n",
    "Numpy is handling vectors and matrices as 1- and 2-dimensional arrays respectively.\n",
    "As opposed to Matlab, it is not distinguished between row and column vectors. \n",
    "\n",
    "In what follows we illustrate simple use of linear algebra in Python.\n",
    "Let\n",
    "$$ \n",
    "A = \\begin{pmatrix} 1.4 & 2.2 & -1.0 \\\\ 1.6 & -2.7 & 1.2 \\\\ -3.2 & 1.2 &-1.8 \\end{pmatrix}, \n",
    "\\qquad \n",
    "\\mathbf{y} = \\begin{pmatrix} 1.0 \\\\ -2.0 \\\\ 3.0  \\end{pmatrix}\n",
    "$$"
   ]
  },
  {
   "cell_type": "code",
   "execution_count": 6,
   "metadata": {},
   "outputs": [
    {
     "name": "stdout",
     "output_type": "stream",
     "text": [
      "A = \n",
      " [[ 1.4  2.2 -1. ]\n",
      " [ 1.6 -2.7  1.2]\n",
      " [-3.2  1.2 -1.8]]\n",
      "\n",
      "y =  [ 1. -2.  3.]\n"
     ]
    }
   ],
   "source": [
    "A = array([[1.4, 2.2, -1.0],        # A: A 2-dimensional array.\n",
    "           [ 1.6, -2.7, 1.2],\n",
    "           [ -3.2, 1.2, -1.8]])     \n",
    "y = array([1.0, -2.0, 3.0])         # y: A 1-dimensional array.\n",
    "print('A = \\n', A)\n",
    "print('\\ny = ', y)"
   ]
  },
  {
   "cell_type": "markdown",
   "metadata": {},
   "source": [
    "In Python the indexing starts with 0, whereas the index in mathematics usually starts with 1. This means for instance that  $y_3$ (in mathematics) is y[2] in Python, and $a_{21}$ is A[1,0]."
   ]
  },
  {
   "cell_type": "code",
   "execution_count": 7,
   "metadata": {},
   "outputs": [
    {
     "name": "stdout",
     "output_type": "stream",
     "text": [
      "1.6\n",
      "3.0\n",
      "[-1.   1.2 -1.8]\n"
     ]
    }
   ],
   "source": [
    "print(A[1,0])\n",
    "print(y[2])\n",
    "print(A[:,-1])"
   ]
  },
  {
   "cell_type": "markdown",
   "metadata": {},
   "source": [
    "If `a` and `b` are two arrays of the same size, the operation `*` will be and elementwise product. Similarly `a**p` means that every element in `a`  is raised to the power`p`:"
   ]
  },
  {
   "cell_type": "code",
   "execution_count": 8,
   "metadata": {},
   "outputs": [
    {
     "name": "stdout",
     "output_type": "stream",
     "text": [
      "a*b =  [ 3  8 15]\n",
      "a**2 =  [1 4 9]\n"
     ]
    }
   ],
   "source": [
    "a = array([1, 2, 3])\n",
    "b = array([3, 4, 5])\n",
    "print('a*b = ', a*b)\n",
    "print('a**2 = ', a**2)"
   ]
  },
  {
   "cell_type": "markdown",
   "metadata": {},
   "source": []
  },
  {
   "cell_type": "markdown",
   "metadata": {},
   "source": [
    "A small selection of useful functions \n",
    "* `A@y` eller `dot(A,y)` : Matrix-vector multiplication. \n",
    "* `solve(A,b)` :  Solves a linear system of equations $ A \\mathbf{x} = \\mathbf{b} $. \n",
    "* `ones(n)` : Array of length $ n $ with 1's. \n",
    "* `zeros(n)` : Array of length $ n $ with 0's. \n",
    "* `len(x)` : Length of the first dimension of an array, e.g. number of rows for a matrix, and number of elements for a vector.\n",
    "* `shape(A)` : The size of and array. Returns $(n, m)$ if $A\\in \\mathbb{R}^{n\\times m}$. \n",
    "* `eye(n)` : An $ n \\times n$ identity matrix.\n",
    "* `linspace(a, b, n)` : Array with $n$ equidistant numbers between $a$ and $b$ inclusive.\n",
    "\n",
    "Please try them out!"
   ]
  },
  {
   "cell_type": "code",
   "execution_count": 9,
   "metadata": {},
   "outputs": [
    {
     "name": "stdout",
     "output_type": "stream",
     "text": [
      "[-1.  -0.8 -0.6 -0.4 -0.2  0.   0.2  0.4  0.6  0.8  1. ]\n",
      "3 3\n"
     ]
    }
   ],
   "source": [
    "x = linspace(-1, 1, 11)\n",
    "print(x)\n",
    "m,n = shape(A)\n",
    "print(m,n)"
   ]
  },
  {
   "cell_type": "markdown",
   "metadata": {},
   "source": [
    "#### Norm of a vector\n",
    "<a name=\"norm\"></a>\n",
    "Let $\\mathbf{x}=[x_1,\\cdots,x_2]\\in \\mathbb{R}^n$.  Two usual norms* are \n",
    "\n",
    "$$\n",
    " \\|\\mathbf{x}\\|_2 = \\sqrt{\\sum_{i=1}^n x_i^2}, \\qquad \\|\\mathbf{x}\\|_{\\infty} = \\max_i|x_i|. \n",
    "$$"
   ]
  },
  {
   "cell_type": "code",
   "execution_count": 10,
   "metadata": {},
   "outputs": [
    {
     "name": "stdout",
     "output_type": "stream",
     "text": [
      "3.7416573867739413\n",
      "3.0\n"
     ]
    }
   ],
   "source": [
    "x = array([1, -3, 2])\n",
    "print( norm(x) )            # 2-norm\n",
    "print( norm(x, inf) )       # Max-norm"
   ]
  },
  {
   "cell_type": "markdown",
   "metadata": {},
   "source": [
    "### Matplotlib\n",
    "We demonstrate a simple use of Matplotlib through an example \n",
    "\n",
    "Plot the functions \n",
    "\n",
    "$$ f(x) = x^2 + 2x \\qquad \\text{and} \\qquad g(x) = 2x\\sin(2\\pi x) $$\n",
    "\n",
    "on the interval $-1 \\leq x \\leq 1$."
   ]
  },
  {
   "cell_type": "code",
   "execution_count": 11,
   "metadata": {},
   "outputs": [
    {
     "data": {
      "image/png": "[encoded data removed]",
      "text/plain": [
       "<Figure size 432x288 with 1 Axes>"
      ]
     },
     "metadata": {},
     "output_type": "display_data"
    }
   ],
   "source": [
    "x = linspace(-1, 1, 101)      # Instantiate the \"x-axis\"\n",
    "f = x**2 + 2*x\n",
    "g = 2*x*sin(2*pi*x)\n",
    "plot(x, f, 'r--')             # Plotting f with a dashed red line\n",
    "plot(x, g, 'b-')              # Plotting g with a solid blue line \n",
    "xlabel('x')\n",
    "ylabel('y')\n",
    "title('Plot of f and g functions')\n",
    "legend(['f(x)', 'g(x)']);"
   ]
  },
  {
   "cell_type": "markdown",
   "metadata": {},
   "source": [
    "### Loops and functions\n",
    "\n",
    "There is no  `end`-statement in Python. \n",
    "The content of functions or control structures are signified by indentation. \n",
    "When the indentation terminates, the function or control structure is terminated.\n",
    "\n",
    "Below we demonstrate for-loops and functions through some minor examples \n",
    "\n",
    "### for-loops\n",
    "A cell with a  `for`-loop can look as follows"
   ]
  },
  {
   "cell_type": "code",
   "execution_count": 12,
   "metadata": {},
   "outputs": [
    {
     "name": "stdout",
     "output_type": "stream",
     "text": [
      "n =  4 \n",
      "\n",
      "i =  0, x =   1.30\n",
      "i =  1, x =   4.60\n",
      "i =  2, x =   2.10\n",
      "i =  3, x =  -5.80\n",
      "\n",
      "And this terminates the loop\n"
     ]
    }
   ],
   "source": [
    "x = array([1.3, 4.6, 2.1, -5.8])\n",
    "n = len(x)\n",
    "print('n = ', n, '\\n')\n",
    "for i in range(n):\n",
    "    print('i = {:2d}, x = {:6.2f}'.format(i, x[i]))    # Formatted output\n",
    "print('\\nAnd this terminates the loop')"
   ]
  },
  {
   "cell_type": "markdown",
   "metadata": {},
   "source": [
    "Note that the construction\n",
    "`for i in range(n)` corresponds to $i=0,1,\\dotsc,n-1$. \n",
    "### Functions\n",
    "\n",
    "Throw a ball in the air. Ignore air resistance. If the initial velocity is $v_0$, the height and velocity of the ball will be\n",
    "\n",
    "\\begin{align}\n",
    "    y(t) &= v_0t - \\frac{1}{2} g t^2 && \\text{height} \\\\\n",
    "    v(t) &= v_0 - gt && \\text{velocity}\n",
    "\\end{align}\n",
    "\n",
    "where $g$ is the gravitational constant. In Python this function can be written as "
   ]
  },
  {
   "cell_type": "code",
   "execution_count": 13,
   "metadata": {},
   "outputs": [],
   "source": [
    "def ball(t, v0=0, g=9.81):\n",
    "    y = v0*t - 0.5*g*t**2\n",
    "    v = v0 - g*t\n",
    "    return y, v"
   ]
  },
  {
   "cell_type": "markdown",
   "metadata": {},
   "source": [
    "Here $v_0$ and $g$ are given defaults values.\n",
    "\n",
    "We give some examples of use of this function\n",
    "\n",
    "What is velocity and position after 2 seconds, when the initial velocity is 0?"
   ]
  },
  {
   "cell_type": "code",
   "execution_count": 14,
   "metadata": {},
   "outputs": [
    {
     "name": "stdout",
     "output_type": "stream",
     "text": [
      "v0= 0.0 ,  t= 2.0 ,  y= -19.62 ,   v= -19.62\n"
     ]
    }
   ],
   "source": [
    "t = 2.0\n",
    "y1, v1 = ball(t)        # After 2 seconds, no initial velocity\n",
    "print('v0=',0.0,',  t=', t, ',  y=', y1, ',   v=', v1,)"
   ]
  },
  {
   "cell_type": "markdown",
   "metadata": {},
   "source": [
    "What is velocity and position after 2 seconds, when the initial velocity is 1 m/s? "
   ]
  },
  {
   "cell_type": "code",
   "execution_count": 15,
   "metadata": {},
   "outputs": [
    {
     "name": "stdout",
     "output_type": "stream",
     "text": [
      "v0= 1.0 ,  t= 2.0 ,  y= -17.62 ,   v= -18.62\n"
     ]
    }
   ],
   "source": [
    "v_start = 1.0\n",
    "y2, v2 = ball(t, v0=v_start)  # After 2 seconds, given v0=1 m/s\n",
    "print('v0=', v_start,',  t=', t, ',  y=', y2, ',   v=', v2)"
   ]
  },
  {
   "cell_type": "markdown",
   "metadata": {},
   "source": [
    "And what is velocity and position after 2 seconds if you repeat the experiment on the moon? "
   ]
  },
  {
   "cell_type": "code",
   "execution_count": 16,
   "metadata": {},
   "outputs": [
    {
     "name": "stdout",
     "output_type": "stream",
     "text": [
      "v0= 1.0 ,  t= 2.0 ,  y= -1.25 ,   v= -2.25   on the moon.\n"
     ]
    }
   ],
   "source": [
    "y3, v3 = ball(t, v0=v_start, g=1.625)  \n",
    "print('v0=', 1.0,',  t=', t, ',  y=', y3, ',   v=', v3, '  on the moon.')"
   ]
  },
  {
   "cell_type": "markdown",
   "metadata": {},
   "source": [
    "### Help!\n",
    "\n",
    "* Have a look in the menu line in Jupyter, see if you find what you need there \n",
    "* For help for a python function, write ?function name. "
   ]
  },
  {
   "cell_type": "code",
   "execution_count": null,
   "metadata": {},
   "outputs": [],
   "source": []
  }
 ],
 "metadata": {
  "kernelspec": {
   "display_name": "Python 3",
   "language": "python",
   "name": "python3"
  },
  "language_info": {
   "codemirror_mode": {
    "name": "ipython",
    "version": 3
   },
   "file_extension": ".py",
   "mimetype": "text/x-python",
   "name": "python",
   "nbconvert_exporter": "python",
   "pygments_lexer": "ipython3",
   "version": "3.6.5"
  }
 },
 "nbformat": 4,
 "nbformat_minor": 2
}
