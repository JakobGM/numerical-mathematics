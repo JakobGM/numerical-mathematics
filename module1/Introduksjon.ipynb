{
 "cells": [
  {
   "cell_type": "markdown",
   "metadata": {},
   "source": [
    "# Introduksjon til bruk av Jupyter med Python\n",
    "**Anne Kværnø**\n",
    "\n",
    "23.02.2018\n"
   ]
  },
  {
   "cell_type": "markdown",
   "metadata": {},
   "source": [
    "## Innledning\n",
    "\n",
    "Velkommen til numerikkdelen av TMA4125 Matematikk 4N. \n",
    "I denne delen av kurset vil alt materiale foreligge i form av notater skrevet i Jupyter. Dette er en web-basert omgivelse som gjør det enkelt å skrive tekst og programmeringskode i et og samme dokument.  \n",
    "\n",
    "Dere lærer ikke programmering i dette kurset, men det antas at dere er i stand til å lese og modifisere enkel kode. Noe kjennskap til Matlab/Octave eller Python er en forutsetning. I dette notatet er det en kort introduksjon til de viktigste konstruksjonene for bruk av Python. For dere som bare kan Matlab, ta en kikk på [NumPy for Matlab users](https://docs.scipy.org/doc/numpy-dev/user/numpy-for-matlab-users.html). \n",
    "\n",
    "Alle disse notatene kan lastes ned og kjøres lokalt, se [How to install and use Anaconda]( https://wiki.math.ntnu.no/anaconda/start).\n",
    "\n",
    "### Bruk av Jupyternotater \n",
    "\n",
    "Et Jupyternotat er satt sammen av celler. Disse kan enten bestå av tekst (som denne), eller av kode, som vist under. Så fort du har kopiert notatet over til ditt eget domene, er du fri til å endre både tekst og kode. Imidlertid oppfordres du på det sterkeste til å la teksten stå, men eksperimentere med koden. Det er også  mulig å lage nye celler, med egne notater eller egen kode. \n",
    "\n",
    "Under finner du et eksempel på en celle med kode. Denne kjøres ved å trykke _shift+enter_. "
   ]
  },
  {
   "cell_type": "code",
   "execution_count": 7,
   "metadata": {},
   "outputs": [
    {
     "name": "stdout",
     "output_type": "stream",
     "text": [
      "28\n"
     ]
    }
   ],
   "source": [
    "a = 2\n",
    "b = 14\n",
    "c = a*b\n",
    "print(c)"
   ]
  },
  {
   "cell_type": "markdown",
   "metadata": {},
   "source": [
    "Når du har kjørt en celle med kode er dataene bevart og kan brukes igjen. "
   ]
  },
  {
   "cell_type": "code",
   "execution_count": 3,
   "metadata": {},
   "outputs": [
    {
     "name": "stdout",
     "output_type": "stream",
     "text": [
      "2 14\n"
     ]
    }
   ],
   "source": [
    "print(a, b)"
   ]
  },
  {
   "cell_type": "code",
   "execution_count": 4,
   "metadata": {},
   "outputs": [],
   "source": [
    "a = 8"
   ]
  },
  {
   "cell_type": "markdown",
   "metadata": {},
   "source": [
    "## Numeriske beregninger i Python:\n",
    "\n",
    "Implementering av numeriske algoritmer behøver ikke være veldig komplisert, de krever stort sett følgende: \n",
    "\n",
    "* Funksjoner \n",
    "* Løkker, særlig for-løkker. \n",
    "* Matriser og vektorer. \n",
    "* Visualisering av resultater.\n",
    "\n",
    "I dette notatet er det _veldig kort_ forklart hvordan disse brukes. \n",
    "\n",
    "Vi trenger to moduler:   \n",
    "* [Numpy:](http://www.numpy.org) Arrays (matriser og vektorer), og de vanlige matematiske funksjonene. \n",
    "* [Matplotlib:](https://matplotlib.org) Grafer og figurer.  \n",
    "\n",
    "I notatene i dette kurset, vil den aller første cellen med kode se omtrent ut som den under. Nødvendige moduler og funksjoner importeres og Jupyter gjøres klar for å vise plott i notatet. Denne cellen skal kjøres før noe annen kode i notatet. "
   ]
  },
  {
   "cell_type": "code",
   "execution_count": 5,
   "metadata": {},
   "outputs": [],
   "source": [
    "# Importer nødvendige moduler, og sett parametre for plotting. \n",
    "# Dette må alltid kjøres først!\n",
    "%matplotlib inline    \n",
    "from numpy import *               \n",
    "from numpy.linalg import solve, norm  \n",
    "from matplotlib.pyplot import *   \n",
    "\n",
    "# De neste linjene setter parametre for plotting. \n",
    "# Parameterne her kan gjerne endres\n",
    "newparams = {'figure.figsize': (8.0, 4.0), 'axes.grid': True,\n",
    "             'lines.markersize': 8, 'lines.linewidth': 2,\n",
    "             'font.size': 14}\n",
    "rcParams.update(newparams)"
   ]
  },
  {
   "cell_type": "markdown",
   "metadata": {},
   "source": [
    "Parameterne i `newparams` kan gjerne endres til du får et plott med skriftstørrelse og linjetykkelse du selv liker. Test det med følgende plott:"
   ]
  },
  {
   "cell_type": "code",
   "execution_count": 4,
   "metadata": {},
   "outputs": [
    {
     "data": {
      "image/png": "[encoded data removed]",
      "text/plain": [
       "<Figure size 432x288 with 1 Axes>"
      ]
     },
     "metadata": {},
     "output_type": "display_data"
    }
   ],
   "source": [
    "x = linspace(0,1,101)\n",
    "plot(x, cos(2*pi*x));     # Bruk ; for å unngå tekst. \n",
    "                          # Trengs bare på siste linje i hver celle"
   ]
  },
  {
   "cell_type": "markdown",
   "metadata": {},
   "source": [
    "### Numpy: \n",
    "Numpy håndterer vektorer og matriser som henholdsvis 1- og 2-dimensjonale arrays. I motsetning til Matlab, skilles det altså ikke mellom rad-vektorer og kolonne-vektorer. \n",
    "\n",
    "Følgende illustrer enkel bruk av lineær algebra i Python: La\n",
    "\n",
    "$$ \n",
    "A = \\begin{pmatrix} 1.4 & 2.2 & -1.0 \\\\ 1.6 & -2.7 & 1.2 \\\\ -3.2 & 1.2 &-1.8 \\end{pmatrix}, \n",
    "\\qquad \n",
    "\\mathbf{y} = \\begin{pmatrix} 1.0 \\\\ -2.0 \\\\ 3.0  \\end{pmatrix}\n",
    "$$\n"
   ]
  },
  {
   "cell_type": "code",
   "execution_count": 6,
   "metadata": {},
   "outputs": [
    {
     "name": "stdout",
     "output_type": "stream",
     "text": [
      "A = \n",
      " [[ 1.4  2.2 -1. ]\n",
      " [ 1.6 -2.7  1.2]\n",
      " [-3.2  1.2 -1.8]]\n",
      "\n",
      "y =  [ 1. -2.  3.]\n"
     ]
    }
   ],
   "source": [
    "A = array([[1.4, 2.2, -1.0],        # A: Et 2-dimensjonalt array \n",
    "           [ 1.6, -2.7, 1.2],\n",
    "           [ -3.2, 1.2, -1.8]])     \n",
    "y = array([1.0, -2.0, 3.0])         # y: Et 1-dimensjonalt array\n",
    "print('A = \\n', A)\n",
    "print('\\ny = ', y)"
   ]
  },
  {
   "cell_type": "markdown",
   "metadata": {},
   "source": [
    "I Python starter indekseringen med 0, mens indekseringen i matematikk vanligvis starter med 1. \n",
    "Det betyr f.eks. at $ y_3 $ (i matematikk) er `y[2]` i Python, og $ a_{21} $ er `A[1,0]`."
   ]
  },
  {
   "cell_type": "code",
   "execution_count": 7,
   "metadata": {},
   "outputs": [
    {
     "name": "stdout",
     "output_type": "stream",
     "text": [
      "1.6\n",
      "3.0\n",
      "[-1.   1.2 -1.8]\n"
     ]
    }
   ],
   "source": [
    "print(A[1,0])\n",
    "print(y[2])\n",
    "print(A[:,-1])"
   ]
  },
  {
   "cell_type": "markdown",
   "metadata": {},
   "source": [
    "Hvis `a` og `b` er to arrays av samme størrelse, vil operasjonen `*` være et elementvis produkt. Tilsvarende betyr `a**p` at hvert enkelt element i `a`  opphøyes i `p`:"
   ]
  },
  {
   "cell_type": "code",
   "execution_count": 8,
   "metadata": {},
   "outputs": [
    {
     "name": "stdout",
     "output_type": "stream",
     "text": [
      "a*b =  [ 3  8 15]\n",
      "a**2 =  [1 4 9]\n"
     ]
    }
   ],
   "source": [
    "a = array([1, 2, 3])\n",
    "b = array([3, 4, 5])\n",
    "print('a*b = ', a*b)\n",
    "print('a**2 = ', a**2)"
   ]
  },
  {
   "cell_type": "markdown",
   "metadata": {},
   "source": [
    "Og her følger et lite knippe nyttige funksjoner:\n",
    "* `A@y` eller `dot(A,y)` : Matrise-vektor multiplikasjon. \n",
    "* `solve(A,b)` :  Løser et lineært ligningssystem $ A \\mathbf{x} = \\mathbf{b} $. \n",
    "* `ones(n)` : Array av lengde $ n $ med 1-ere. \n",
    "* `zeros(n)` : Array av lengde $ n $ med 0-ere. \n",
    "* `len(x)` : Lengden av et array.\n",
    "* `shape(A)` : Størrelsen av et array. Returnerer $(n, m)$ hvis $A\\in \\mathbb{R}^{n\\times m}$. \n",
    "* `eye(n)` : En $ n \\times n$ identitetsmatrise.\n",
    "* `linspace(a, b, n)` : Array med n likt fordelte punkter mellom a og b.\n",
    "\n",
    "Test dem ut selv. "
   ]
  },
  {
   "cell_type": "code",
   "execution_count": 9,
   "metadata": {},
   "outputs": [
    {
     "name": "stdout",
     "output_type": "stream",
     "text": [
      "[-1.  -0.8 -0.6 -0.4 -0.2  0.   0.2  0.4  0.6  0.8  1. ]\n",
      "3 3\n"
     ]
    }
   ],
   "source": [
    "x = linspace(-1, 1, 11)\n",
    "print(x)\n",
    "m,n = shape(A)\n",
    "print(m,n)"
   ]
  },
  {
   "cell_type": "markdown",
   "metadata": {},
   "source": [
    "#### Normen til en vektor\n",
    "<a name=\"norm\"></a>\n",
    "La $\\mathbf{x}=[x_1,\\cdots,x_2]\\in \\mathbb{R}^n$.  To vanlige uttrykk for lengden (eller normen) av $\\mathbf{x}$ er \n",
    "\n",
    "$$\n",
    " \\|\\mathbf{x}\\|_2 = \\sqrt{\\sum_{i=1}^n x_i^2}, \\qquad \\|\\mathbf{x}\\|_{\\infty} = \\max_i|x_i|. \n",
    "$$"
   ]
  },
  {
   "cell_type": "code",
   "execution_count": 10,
   "metadata": {},
   "outputs": [
    {
     "name": "stdout",
     "output_type": "stream",
     "text": [
      "3.7416573867739413\n",
      "3.0\n"
     ]
    }
   ],
   "source": [
    "x = array([1, -3, 2])\n",
    "print( norm(x) )            # 2-normen\n",
    "print( norm(x, inf) )       # max-normen"
   ]
  },
  {
   "cell_type": "markdown",
   "metadata": {},
   "source": [
    "### Matplotlib\n",
    "La oss rett og slett demonstrere enkel bruk av Matplotlib ved hjelp av et eksempel: \n",
    "\n",
    "Plott funksjonene \n",
    "\n",
    "$$ f(x) = x^2 + 2x \\qquad \\text{og} \\qquad g(x) = 2x\\sin(2\\pi x) $$\n",
    "\n",
    "på intervallet $-1 \\leq x \\leq 1$. "
   ]
  },
  {
   "cell_type": "code",
   "execution_count": 6,
   "metadata": {},
   "outputs": [
    {
     "data": {
      "image/png": "[encoded data removed]",
      "text/plain": [
       "<Figure size 432x288 with 1 Axes>"
      ]
     },
     "metadata": {},
     "output_type": "display_data"
    }
   ],
   "source": [
    "x = linspace(-1, 1, 101)      # Lager 'x-aksen'\n",
    "f = x**2 + 2*x\n",
    "g = 2*x*sin(2*pi*x)\n",
    "plot(x, f, 'r--')             # Plott f, rød stiplet kurve\n",
    "plot(x, g, 'b-')              # Plott g, blå heltrukken kurve \n",
    "xlabel('x')\n",
    "ylabel('y')\n",
    "title('Plott av funksjonene f og g')\n",
    "legend(['f(x)', 'g(x)']);"
   ]
  },
  {
   "cell_type": "markdown",
   "metadata": {},
   "source": [
    "### Løkker og funksjoner\n",
    "\n",
    "Det finnes ikke noe `end`-type setning i Python. \n",
    "Innholdet i funksjoner eller kontrollstrukturer markeres med innrykk. Når innrykket er avsluttet, er funksjonen eller kontrollstrukturen avsluttet.\n",
    "\n",
    "Nedenfor er for-løkker og funksjoner demonstrert med små eksempler. \n",
    "\n",
    "### for-løkker\n",
    "En celle med ei  `for`-løkke kan f.eks. se slik ut: "
   ]
  },
  {
   "cell_type": "code",
   "execution_count": 11,
   "metadata": {},
   "outputs": [
    {
     "name": "stdout",
     "output_type": "stream",
     "text": [
      "n =  4 \n",
      "\n",
      "i =  0, x =   1.30\n",
      "i =  1, x =   4.60\n",
      "i =  2, x =   2.10\n",
      "i =  3, x =  -5.80\n",
      "\n",
      "Og dette avslutter løkka\n"
     ]
    }
   ],
   "source": [
    "x = array([1.3, 4.6, 2.1, -5.8])\n",
    "n = len(x)\n",
    "print('n = ', n, '\\n')\n",
    "for i in range(n):\n",
    "    print('i = {:2d}, x = {:6.2f}'.format(i, x[i]))    # Formattert utskrift\n",
    "print('\\nOg dette avslutter løkka')"
   ]
  },
  {
   "cell_type": "markdown",
   "metadata": {
    "collapsed": true
   },
   "source": [
    "Legg merke til at konstruksjonen\n",
    "`for i in range(n)` tilsvarer $i=0,1,\\dotsc,n-1$. \n",
    "\n",
    "### Funksjoner\n",
    "\n",
    "Kast en ball opp i lufta. Ignorer luftmotstand. Hvis utgangshastigheten er $v_0$ så vil ballens høyde og hastighet være gitt ved\n",
    "\n",
    "\\begin{align}\n",
    "    y(t) &= v_0t - \\frac{1}{2} g t^2 && \\text{høyde} \\\\\n",
    "    v(t) &= v_0 - gt && \\text{hastighet}\n",
    "\\end{align}\n",
    "\n",
    "hvor $g$ er gravitasjonskonstanten. I Python kan denne funksjonen skrives som:"
   ]
  },
  {
   "cell_type": "code",
   "execution_count": 9,
   "metadata": {},
   "outputs": [],
   "source": [
    "def ball(t, v0=0, g=9.81):\n",
    "    y = v0*t - 0.5*g*t**2\n",
    "    v = v0 - g*t\n",
    "    return y, v"
   ]
  },
  {
   "cell_type": "markdown",
   "metadata": {},
   "source": [
    "Hvor $v_0$ og $g$ er satt som standardverdier (defaults). \n",
    "\n",
    "Her følger noen eksempler for bruk av denne funksjonen: \n",
    "\n",
    "Hva er hastighet og posisjon etter 2 sekunder, når utgangshastigheten er 0?"
   ]
  },
  {
   "cell_type": "code",
   "execution_count": 10,
   "metadata": {},
   "outputs": [
    {
     "name": "stdout",
     "output_type": "stream",
     "text": [
      "v0= 0.0 ,  t= 2.0 ,  y= -19.62 ,   v= -19.62\n"
     ]
    }
   ],
   "source": [
    "t = 2.0\n",
    "y1, v1 = ball(t)        # etter 2 sekunder, ingen utgangshastighet\n",
    "print('v0=',0.0,',  t=', t, ',  y=', y1, ',   v=', v1)"
   ]
  },
  {
   "cell_type": "markdown",
   "metadata": {},
   "source": [
    "Hva er hastighet og posisjon etter 2 sekunder, når utgangshastigheten er 1 m/s? "
   ]
  },
  {
   "cell_type": "code",
   "execution_count": null,
   "metadata": {},
   "outputs": [],
   "source": [
    "v_start = 1.0\n",
    "y2, v2 = ball(t, v0=v_start)  # etter 2 sekunder, med v0=1 m/s\n",
    "print('v0=', v_start,',  t=', t, ',  y=', y2, ',   v=', v2)"
   ]
  },
  {
   "cell_type": "markdown",
   "metadata": {},
   "source": [
    "Og hva er hastighet og posisjon etter 2 sekunder, hvis du repeterer siste eksperiment på månen? "
   ]
  },
  {
   "cell_type": "code",
   "execution_count": null,
   "metadata": {},
   "outputs": [],
   "source": [
    "y3, v3 = ball(t, v0=v_start, g=1.625)  \n",
    "print('v0=', 1.0,',  t=', t, ',  y=', y3, ',   v=', v3, '  på månen.')"
   ]
  },
  {
   "cell_type": "markdown",
   "metadata": {},
   "source": [
    "### Hjelp!\n",
    "\n",
    "* Ta en titt på meny-linja i Jupyter, se om du finner det du trenger der. \n",
    "* For hjelp for en python-funksjon, skriv ?funksjonsnavn. "
   ]
  },
  {
   "cell_type": "code",
   "execution_count": null,
   "metadata": {
    "collapsed": true
   },
   "outputs": [],
   "source": [
    "?linspace"
   ]
  },
  {
   "cell_type": "code",
   "execution_count": null,
   "metadata": {
    "collapsed": true
   },
   "outputs": [],
   "source": []
  }
 ],
 "metadata": {
  "kernelspec": {
   "display_name": "Python 3",
   "language": "python",
   "name": "python3"
  },
  "language_info": {
   "codemirror_mode": {
    "name": "ipython",
    "version": 3
   },
   "file_extension": ".py",
   "mimetype": "text/x-python",
   "name": "python",
   "nbconvert_exporter": "python",
   "pygments_lexer": "ipython3",
   "version": "3.6.5"
  }
 },
 "nbformat": 4,
 "nbformat_minor": 2
}
